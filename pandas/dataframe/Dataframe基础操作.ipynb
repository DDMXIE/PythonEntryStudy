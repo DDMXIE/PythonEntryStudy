{
 "cells": [
  {
   "cell_type": "code",
   "execution_count": 18,
   "id": "cd247b67",
   "metadata": {},
   "outputs": [],
   "source": [
    "import pandas as pd\n",
    "import numpy as np\n",
    "from pandas import Series"
   ]
  },
  {
   "cell_type": "code",
   "execution_count": 19,
   "id": "25245485",
   "metadata": {},
   "outputs": [
    {
     "data": {
      "text/plain": [
       "DatetimeIndex(['2013-01-01', '2013-01-02', '2013-01-03', '2013-01-04',\n",
       "               '2013-01-05', '2013-01-06'],\n",
       "              dtype='datetime64[ns]', freq='D')"
      ]
     },
     "execution_count": 19,
     "metadata": {},
     "output_type": "execute_result"
    }
   ],
   "source": [
    "dates = pd.date_range('20130101', periods=6)\n",
    "dates"
   ]
  },
  {
   "cell_type": "code",
   "execution_count": 20,
   "id": "c62c17e7",
   "metadata": {},
   "outputs": [
    {
     "data": {
      "text/html": [
       "<div>\n",
       "<style scoped>\n",
       "    .dataframe tbody tr th:only-of-type {\n",
       "        vertical-align: middle;\n",
       "    }\n",
       "\n",
       "    .dataframe tbody tr th {\n",
       "        vertical-align: top;\n",
       "    }\n",
       "\n",
       "    .dataframe thead th {\n",
       "        text-align: right;\n",
       "    }\n",
       "</style>\n",
       "<table border=\"1\" class=\"dataframe\">\n",
       "  <thead>\n",
       "    <tr style=\"text-align: right;\">\n",
       "      <th></th>\n",
       "      <th>A</th>\n",
       "      <th>B</th>\n",
       "      <th>C</th>\n",
       "      <th>D</th>\n",
       "    </tr>\n",
       "  </thead>\n",
       "  <tbody>\n",
       "    <tr>\n",
       "      <th>2013-01-01</th>\n",
       "      <td>1.405223</td>\n",
       "      <td>-0.273128</td>\n",
       "      <td>-0.384451</td>\n",
       "      <td>0.892998</td>\n",
       "    </tr>\n",
       "    <tr>\n",
       "      <th>2013-01-02</th>\n",
       "      <td>0.090959</td>\n",
       "      <td>0.462612</td>\n",
       "      <td>-0.235714</td>\n",
       "      <td>-0.202076</td>\n",
       "    </tr>\n",
       "    <tr>\n",
       "      <th>2013-01-03</th>\n",
       "      <td>0.915424</td>\n",
       "      <td>-0.546903</td>\n",
       "      <td>-0.396506</td>\n",
       "      <td>0.861174</td>\n",
       "    </tr>\n",
       "    <tr>\n",
       "      <th>2013-01-04</th>\n",
       "      <td>-0.064783</td>\n",
       "      <td>-0.584981</td>\n",
       "      <td>0.209158</td>\n",
       "      <td>-1.973212</td>\n",
       "    </tr>\n",
       "    <tr>\n",
       "      <th>2013-01-05</th>\n",
       "      <td>1.393941</td>\n",
       "      <td>0.494950</td>\n",
       "      <td>-1.276618</td>\n",
       "      <td>0.273355</td>\n",
       "    </tr>\n",
       "    <tr>\n",
       "      <th>2013-01-06</th>\n",
       "      <td>-1.244627</td>\n",
       "      <td>0.050110</td>\n",
       "      <td>-0.390242</td>\n",
       "      <td>0.848057</td>\n",
       "    </tr>\n",
       "  </tbody>\n",
       "</table>\n",
       "</div>"
      ],
      "text/plain": [
       "                   A         B         C         D\n",
       "2013-01-01  1.405223 -0.273128 -0.384451  0.892998\n",
       "2013-01-02  0.090959  0.462612 -0.235714 -0.202076\n",
       "2013-01-03  0.915424 -0.546903 -0.396506  0.861174\n",
       "2013-01-04 -0.064783 -0.584981  0.209158 -1.973212\n",
       "2013-01-05  1.393941  0.494950 -1.276618  0.273355\n",
       "2013-01-06 -1.244627  0.050110 -0.390242  0.848057"
      ]
     },
     "execution_count": 20,
     "metadata": {},
     "output_type": "execute_result"
    }
   ],
   "source": [
    "df = pd.DataFrame(np.random.randn(6, 4), index=dates, columns=list('ABCD'))\n",
    "df"
   ]
  },
  {
   "cell_type": "code",
   "execution_count": 21,
   "id": "0bfcca7a",
   "metadata": {},
   "outputs": [
    {
     "data": {
      "text/html": [
       "<div>\n",
       "<style scoped>\n",
       "    .dataframe tbody tr th:only-of-type {\n",
       "        vertical-align: middle;\n",
       "    }\n",
       "\n",
       "    .dataframe tbody tr th {\n",
       "        vertical-align: top;\n",
       "    }\n",
       "\n",
       "    .dataframe thead th {\n",
       "        text-align: right;\n",
       "    }\n",
       "</style>\n",
       "<table border=\"1\" class=\"dataframe\">\n",
       "  <thead>\n",
       "    <tr style=\"text-align: right;\">\n",
       "      <th></th>\n",
       "      <th>A</th>\n",
       "      <th>B</th>\n",
       "      <th>C</th>\n",
       "      <th>D</th>\n",
       "    </tr>\n",
       "  </thead>\n",
       "  <tbody>\n",
       "    <tr>\n",
       "      <th>2013-01-04</th>\n",
       "      <td>-0.064783</td>\n",
       "      <td>-0.584981</td>\n",
       "      <td>0.209158</td>\n",
       "      <td>-1.973212</td>\n",
       "    </tr>\n",
       "    <tr>\n",
       "      <th>2013-01-05</th>\n",
       "      <td>1.393941</td>\n",
       "      <td>0.494950</td>\n",
       "      <td>-1.276618</td>\n",
       "      <td>0.273355</td>\n",
       "    </tr>\n",
       "    <tr>\n",
       "      <th>2013-01-06</th>\n",
       "      <td>-1.244627</td>\n",
       "      <td>0.050110</td>\n",
       "      <td>-0.390242</td>\n",
       "      <td>0.848057</td>\n",
       "    </tr>\n",
       "  </tbody>\n",
       "</table>\n",
       "</div>"
      ],
      "text/plain": [
       "                   A         B         C         D\n",
       "2013-01-04 -0.064783 -0.584981  0.209158 -1.973212\n",
       "2013-01-05  1.393941  0.494950 -1.276618  0.273355\n",
       "2013-01-06 -1.244627  0.050110 -0.390242  0.848057"
      ]
     },
     "execution_count": 21,
     "metadata": {},
     "output_type": "execute_result"
    }
   ],
   "source": [
    "# 取Dataframe中尾部数据\n",
    "df.tail(3)"
   ]
  },
  {
   "cell_type": "code",
   "execution_count": 22,
   "id": "54c588b2",
   "metadata": {},
   "outputs": [
    {
     "data": {
      "text/html": [
       "<div>\n",
       "<style scoped>\n",
       "    .dataframe tbody tr th:only-of-type {\n",
       "        vertical-align: middle;\n",
       "    }\n",
       "\n",
       "    .dataframe tbody tr th {\n",
       "        vertical-align: top;\n",
       "    }\n",
       "\n",
       "    .dataframe thead th {\n",
       "        text-align: right;\n",
       "    }\n",
       "</style>\n",
       "<table border=\"1\" class=\"dataframe\">\n",
       "  <thead>\n",
       "    <tr style=\"text-align: right;\">\n",
       "      <th></th>\n",
       "      <th>A</th>\n",
       "      <th>B</th>\n",
       "      <th>C</th>\n",
       "      <th>D</th>\n",
       "    </tr>\n",
       "  </thead>\n",
       "  <tbody>\n",
       "    <tr>\n",
       "      <th>2013-01-01</th>\n",
       "      <td>1.405223</td>\n",
       "      <td>-0.273128</td>\n",
       "      <td>-0.384451</td>\n",
       "      <td>0.892998</td>\n",
       "    </tr>\n",
       "    <tr>\n",
       "      <th>2013-01-02</th>\n",
       "      <td>0.090959</td>\n",
       "      <td>0.462612</td>\n",
       "      <td>-0.235714</td>\n",
       "      <td>-0.202076</td>\n",
       "    </tr>\n",
       "  </tbody>\n",
       "</table>\n",
       "</div>"
      ],
      "text/plain": [
       "                   A         B         C         D\n",
       "2013-01-01  1.405223 -0.273128 -0.384451  0.892998\n",
       "2013-01-02  0.090959  0.462612 -0.235714 -0.202076"
      ]
     },
     "execution_count": 22,
     "metadata": {},
     "output_type": "execute_result"
    }
   ],
   "source": [
    "# 取Dataframe中头部数据\n",
    "df.head(2)"
   ]
  },
  {
   "cell_type": "code",
   "execution_count": 23,
   "id": "e1cfae76",
   "metadata": {},
   "outputs": [
    {
     "data": {
      "text/html": [
       "<div>\n",
       "<style scoped>\n",
       "    .dataframe tbody tr th:only-of-type {\n",
       "        vertical-align: middle;\n",
       "    }\n",
       "\n",
       "    .dataframe tbody tr th {\n",
       "        vertical-align: top;\n",
       "    }\n",
       "\n",
       "    .dataframe thead th {\n",
       "        text-align: right;\n",
       "    }\n",
       "</style>\n",
       "<table border=\"1\" class=\"dataframe\">\n",
       "  <thead>\n",
       "    <tr style=\"text-align: right;\">\n",
       "      <th></th>\n",
       "      <th>A</th>\n",
       "      <th>B</th>\n",
       "      <th>C</th>\n",
       "      <th>D</th>\n",
       "    </tr>\n",
       "  </thead>\n",
       "  <tbody>\n",
       "    <tr>\n",
       "      <th>2013-01-02</th>\n",
       "      <td>0.090959</td>\n",
       "      <td>0.462612</td>\n",
       "      <td>-0.235714</td>\n",
       "      <td>-0.202076</td>\n",
       "    </tr>\n",
       "    <tr>\n",
       "      <th>2013-01-03</th>\n",
       "      <td>0.915424</td>\n",
       "      <td>-0.546903</td>\n",
       "      <td>-0.396506</td>\n",
       "      <td>0.861174</td>\n",
       "    </tr>\n",
       "  </tbody>\n",
       "</table>\n",
       "</div>"
      ],
      "text/plain": [
       "                   A         B         C         D\n",
       "2013-01-02  0.090959  0.462612 -0.235714 -0.202076\n",
       "2013-01-03  0.915424 -0.546903 -0.396506  0.861174"
      ]
     },
     "execution_count": 23,
     "metadata": {},
     "output_type": "execute_result"
    }
   ],
   "source": [
    "# 截取某行到某行\n",
    "df[1:3]"
   ]
  },
  {
   "cell_type": "code",
   "execution_count": 24,
   "id": "30d927c8",
   "metadata": {},
   "outputs": [
    {
     "data": {
      "text/html": [
       "<div>\n",
       "<style scoped>\n",
       "    .dataframe tbody tr th:only-of-type {\n",
       "        vertical-align: middle;\n",
       "    }\n",
       "\n",
       "    .dataframe tbody tr th {\n",
       "        vertical-align: top;\n",
       "    }\n",
       "\n",
       "    .dataframe thead th {\n",
       "        text-align: right;\n",
       "    }\n",
       "</style>\n",
       "<table border=\"1\" class=\"dataframe\">\n",
       "  <thead>\n",
       "    <tr style=\"text-align: right;\">\n",
       "      <th></th>\n",
       "      <th>a</th>\n",
       "      <th>b</th>\n",
       "      <th>c</th>\n",
       "      <th>d</th>\n",
       "    </tr>\n",
       "  </thead>\n",
       "  <tbody>\n",
       "    <tr>\n",
       "      <th>2013-01-01</th>\n",
       "      <td>1.405223</td>\n",
       "      <td>-0.273128</td>\n",
       "      <td>-0.384451</td>\n",
       "      <td>0.892998</td>\n",
       "    </tr>\n",
       "    <tr>\n",
       "      <th>2013-01-02</th>\n",
       "      <td>0.090959</td>\n",
       "      <td>0.462612</td>\n",
       "      <td>-0.235714</td>\n",
       "      <td>-0.202076</td>\n",
       "    </tr>\n",
       "    <tr>\n",
       "      <th>2013-01-03</th>\n",
       "      <td>0.915424</td>\n",
       "      <td>-0.546903</td>\n",
       "      <td>-0.396506</td>\n",
       "      <td>0.861174</td>\n",
       "    </tr>\n",
       "    <tr>\n",
       "      <th>2013-01-04</th>\n",
       "      <td>-0.064783</td>\n",
       "      <td>-0.584981</td>\n",
       "      <td>0.209158</td>\n",
       "      <td>-1.973212</td>\n",
       "    </tr>\n",
       "    <tr>\n",
       "      <th>2013-01-05</th>\n",
       "      <td>1.393941</td>\n",
       "      <td>0.494950</td>\n",
       "      <td>-1.276618</td>\n",
       "      <td>0.273355</td>\n",
       "    </tr>\n",
       "    <tr>\n",
       "      <th>2013-01-06</th>\n",
       "      <td>-1.244627</td>\n",
       "      <td>0.050110</td>\n",
       "      <td>-0.390242</td>\n",
       "      <td>0.848057</td>\n",
       "    </tr>\n",
       "  </tbody>\n",
       "</table>\n",
       "</div>"
      ],
      "text/plain": [
       "                   a         b         c         d\n",
       "2013-01-01  1.405223 -0.273128 -0.384451  0.892998\n",
       "2013-01-02  0.090959  0.462612 -0.235714 -0.202076\n",
       "2013-01-03  0.915424 -0.546903 -0.396506  0.861174\n",
       "2013-01-04 -0.064783 -0.584981  0.209158 -1.973212\n",
       "2013-01-05  1.393941  0.494950 -1.276618  0.273355\n",
       "2013-01-06 -1.244627  0.050110 -0.390242  0.848057"
      ]
     },
     "execution_count": 24,
     "metadata": {},
     "output_type": "execute_result"
    }
   ],
   "source": [
    "# 将columns的大写换成是小写\n",
    "df.columns = [x.lower() for x in df.columns]\n",
    "df"
   ]
  },
  {
   "cell_type": "code",
   "execution_count": 26,
   "id": "b6226f0a",
   "metadata": {},
   "outputs": [],
   "source": [
    "b = Series(df['a'])"
   ]
  },
  {
   "cell_type": "code",
   "execution_count": 35,
   "id": "bb407919",
   "metadata": {},
   "outputs": [
    {
     "name": "stdout",
     "output_type": "stream",
     "text": [
      "[ 1.40522261  0.09095907  0.9154243  -0.06478253  1.39394082 -1.24462736]\n"
     ]
    }
   ],
   "source": [
    "np_data = np.array(b)\n",
    "print(np_data)"
   ]
  },
  {
   "cell_type": "code",
   "execution_count": 34,
   "id": "50000101",
   "metadata": {},
   "outputs": [
    {
     "name": "stdout",
     "output_type": "stream",
     "text": [
      "1.4052226113602626\n",
      "0.09095906781568379\n",
      "0.9154243017957767\n",
      "-0.06478252526017728\n",
      "1.3939408240945277\n",
      "-1.2446273634757603\n"
     ]
    }
   ],
   "source": [
    "for each in np_data:\n",
    "    print(each)"
   ]
  }
 ],
 "metadata": {
  "kernelspec": {
   "display_name": "Python 3",
   "language": "python",
   "name": "python3"
  },
  "language_info": {
   "codemirror_mode": {
    "name": "ipython",
    "version": 3
   },
   "file_extension": ".py",
   "mimetype": "text/x-python",
   "name": "python",
   "nbconvert_exporter": "python",
   "pygments_lexer": "ipython3",
   "version": "3.9.5"
  }
 },
 "nbformat": 4,
 "nbformat_minor": 5
}
