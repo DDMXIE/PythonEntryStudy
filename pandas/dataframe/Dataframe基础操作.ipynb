{
 "cells": [
  {
   "cell_type": "code",
   "execution_count": 1,
   "id": "cd247b67",
   "metadata": {},
   "outputs": [],
   "source": [
    "import pandas as pd\n",
    "import numpy as np\n",
    "from pandas import Series"
   ]
  },
  {
   "cell_type": "code",
   "execution_count": 2,
   "id": "25245485",
   "metadata": {},
   "outputs": [
    {
     "data": {
      "text/plain": [
       "DatetimeIndex(['2013-01-01', '2013-01-02', '2013-01-03', '2013-01-04',\n",
       "               '2013-01-05', '2013-01-06'],\n",
       "              dtype='datetime64[ns]', freq='D')"
      ]
     },
     "execution_count": 2,
     "metadata": {},
     "output_type": "execute_result"
    }
   ],
   "source": [
    "dates = pd.date_range('20130101', periods=6)\n",
    "dates"
   ]
  },
  {
   "cell_type": "code",
   "execution_count": 3,
   "id": "c62c17e7",
   "metadata": {},
   "outputs": [
    {
     "data": {
      "text/html": [
       "<div>\n",
       "<style scoped>\n",
       "    .dataframe tbody tr th:only-of-type {\n",
       "        vertical-align: middle;\n",
       "    }\n",
       "\n",
       "    .dataframe tbody tr th {\n",
       "        vertical-align: top;\n",
       "    }\n",
       "\n",
       "    .dataframe thead th {\n",
       "        text-align: right;\n",
       "    }\n",
       "</style>\n",
       "<table border=\"1\" class=\"dataframe\">\n",
       "  <thead>\n",
       "    <tr style=\"text-align: right;\">\n",
       "      <th></th>\n",
       "      <th>A</th>\n",
       "      <th>B</th>\n",
       "      <th>C</th>\n",
       "      <th>D</th>\n",
       "    </tr>\n",
       "  </thead>\n",
       "  <tbody>\n",
       "    <tr>\n",
       "      <th>2013-01-01</th>\n",
       "      <td>-1.105899</td>\n",
       "      <td>1.358544</td>\n",
       "      <td>0.503598</td>\n",
       "      <td>0.411258</td>\n",
       "    </tr>\n",
       "    <tr>\n",
       "      <th>2013-01-02</th>\n",
       "      <td>-0.462173</td>\n",
       "      <td>0.489251</td>\n",
       "      <td>1.296628</td>\n",
       "      <td>-1.155972</td>\n",
       "    </tr>\n",
       "    <tr>\n",
       "      <th>2013-01-03</th>\n",
       "      <td>-0.354500</td>\n",
       "      <td>-0.035041</td>\n",
       "      <td>-0.779967</td>\n",
       "      <td>0.235855</td>\n",
       "    </tr>\n",
       "    <tr>\n",
       "      <th>2013-01-04</th>\n",
       "      <td>0.434285</td>\n",
       "      <td>0.480654</td>\n",
       "      <td>-1.126446</td>\n",
       "      <td>0.864055</td>\n",
       "    </tr>\n",
       "    <tr>\n",
       "      <th>2013-01-05</th>\n",
       "      <td>-0.187896</td>\n",
       "      <td>2.590489</td>\n",
       "      <td>-0.340271</td>\n",
       "      <td>0.661748</td>\n",
       "    </tr>\n",
       "    <tr>\n",
       "      <th>2013-01-06</th>\n",
       "      <td>-0.180472</td>\n",
       "      <td>-0.855244</td>\n",
       "      <td>-0.944110</td>\n",
       "      <td>0.429397</td>\n",
       "    </tr>\n",
       "  </tbody>\n",
       "</table>\n",
       "</div>"
      ],
      "text/plain": [
       "                   A         B         C         D\n",
       "2013-01-01 -1.105899  1.358544  0.503598  0.411258\n",
       "2013-01-02 -0.462173  0.489251  1.296628 -1.155972\n",
       "2013-01-03 -0.354500 -0.035041 -0.779967  0.235855\n",
       "2013-01-04  0.434285  0.480654 -1.126446  0.864055\n",
       "2013-01-05 -0.187896  2.590489 -0.340271  0.661748\n",
       "2013-01-06 -0.180472 -0.855244 -0.944110  0.429397"
      ]
     },
     "execution_count": 3,
     "metadata": {},
     "output_type": "execute_result"
    }
   ],
   "source": [
    "df = pd.DataFrame(np.random.randn(6, 4), index=dates, columns=list('ABCD'))\n",
    "df"
   ]
  },
  {
   "cell_type": "code",
   "execution_count": 4,
   "id": "0bfcca7a",
   "metadata": {},
   "outputs": [
    {
     "data": {
      "text/html": [
       "<div>\n",
       "<style scoped>\n",
       "    .dataframe tbody tr th:only-of-type {\n",
       "        vertical-align: middle;\n",
       "    }\n",
       "\n",
       "    .dataframe tbody tr th {\n",
       "        vertical-align: top;\n",
       "    }\n",
       "\n",
       "    .dataframe thead th {\n",
       "        text-align: right;\n",
       "    }\n",
       "</style>\n",
       "<table border=\"1\" class=\"dataframe\">\n",
       "  <thead>\n",
       "    <tr style=\"text-align: right;\">\n",
       "      <th></th>\n",
       "      <th>A</th>\n",
       "      <th>B</th>\n",
       "      <th>C</th>\n",
       "      <th>D</th>\n",
       "    </tr>\n",
       "  </thead>\n",
       "  <tbody>\n",
       "    <tr>\n",
       "      <th>2013-01-04</th>\n",
       "      <td>0.434285</td>\n",
       "      <td>0.480654</td>\n",
       "      <td>-1.126446</td>\n",
       "      <td>0.864055</td>\n",
       "    </tr>\n",
       "    <tr>\n",
       "      <th>2013-01-05</th>\n",
       "      <td>-0.187896</td>\n",
       "      <td>2.590489</td>\n",
       "      <td>-0.340271</td>\n",
       "      <td>0.661748</td>\n",
       "    </tr>\n",
       "    <tr>\n",
       "      <th>2013-01-06</th>\n",
       "      <td>-0.180472</td>\n",
       "      <td>-0.855244</td>\n",
       "      <td>-0.944110</td>\n",
       "      <td>0.429397</td>\n",
       "    </tr>\n",
       "  </tbody>\n",
       "</table>\n",
       "</div>"
      ],
      "text/plain": [
       "                   A         B         C         D\n",
       "2013-01-04  0.434285  0.480654 -1.126446  0.864055\n",
       "2013-01-05 -0.187896  2.590489 -0.340271  0.661748\n",
       "2013-01-06 -0.180472 -0.855244 -0.944110  0.429397"
      ]
     },
     "execution_count": 4,
     "metadata": {},
     "output_type": "execute_result"
    }
   ],
   "source": [
    "# 取Dataframe中尾部数据\n",
    "df.tail(3)"
   ]
  },
  {
   "cell_type": "code",
   "execution_count": 5,
   "id": "54c588b2",
   "metadata": {},
   "outputs": [
    {
     "data": {
      "text/html": [
       "<div>\n",
       "<style scoped>\n",
       "    .dataframe tbody tr th:only-of-type {\n",
       "        vertical-align: middle;\n",
       "    }\n",
       "\n",
       "    .dataframe tbody tr th {\n",
       "        vertical-align: top;\n",
       "    }\n",
       "\n",
       "    .dataframe thead th {\n",
       "        text-align: right;\n",
       "    }\n",
       "</style>\n",
       "<table border=\"1\" class=\"dataframe\">\n",
       "  <thead>\n",
       "    <tr style=\"text-align: right;\">\n",
       "      <th></th>\n",
       "      <th>A</th>\n",
       "      <th>B</th>\n",
       "      <th>C</th>\n",
       "      <th>D</th>\n",
       "    </tr>\n",
       "  </thead>\n",
       "  <tbody>\n",
       "    <tr>\n",
       "      <th>2013-01-01</th>\n",
       "      <td>-1.105899</td>\n",
       "      <td>1.358544</td>\n",
       "      <td>0.503598</td>\n",
       "      <td>0.411258</td>\n",
       "    </tr>\n",
       "    <tr>\n",
       "      <th>2013-01-02</th>\n",
       "      <td>-0.462173</td>\n",
       "      <td>0.489251</td>\n",
       "      <td>1.296628</td>\n",
       "      <td>-1.155972</td>\n",
       "    </tr>\n",
       "  </tbody>\n",
       "</table>\n",
       "</div>"
      ],
      "text/plain": [
       "                   A         B         C         D\n",
       "2013-01-01 -1.105899  1.358544  0.503598  0.411258\n",
       "2013-01-02 -0.462173  0.489251  1.296628 -1.155972"
      ]
     },
     "execution_count": 5,
     "metadata": {},
     "output_type": "execute_result"
    }
   ],
   "source": [
    "# 取Dataframe中头部数据\n",
    "df.head(2)"
   ]
  },
  {
   "cell_type": "code",
   "execution_count": 6,
   "id": "e1cfae76",
   "metadata": {},
   "outputs": [
    {
     "data": {
      "text/html": [
       "<div>\n",
       "<style scoped>\n",
       "    .dataframe tbody tr th:only-of-type {\n",
       "        vertical-align: middle;\n",
       "    }\n",
       "\n",
       "    .dataframe tbody tr th {\n",
       "        vertical-align: top;\n",
       "    }\n",
       "\n",
       "    .dataframe thead th {\n",
       "        text-align: right;\n",
       "    }\n",
       "</style>\n",
       "<table border=\"1\" class=\"dataframe\">\n",
       "  <thead>\n",
       "    <tr style=\"text-align: right;\">\n",
       "      <th></th>\n",
       "      <th>A</th>\n",
       "      <th>B</th>\n",
       "      <th>C</th>\n",
       "      <th>D</th>\n",
       "    </tr>\n",
       "  </thead>\n",
       "  <tbody>\n",
       "    <tr>\n",
       "      <th>2013-01-02</th>\n",
       "      <td>-0.462173</td>\n",
       "      <td>0.489251</td>\n",
       "      <td>1.296628</td>\n",
       "      <td>-1.155972</td>\n",
       "    </tr>\n",
       "    <tr>\n",
       "      <th>2013-01-03</th>\n",
       "      <td>-0.354500</td>\n",
       "      <td>-0.035041</td>\n",
       "      <td>-0.779967</td>\n",
       "      <td>0.235855</td>\n",
       "    </tr>\n",
       "  </tbody>\n",
       "</table>\n",
       "</div>"
      ],
      "text/plain": [
       "                   A         B         C         D\n",
       "2013-01-02 -0.462173  0.489251  1.296628 -1.155972\n",
       "2013-01-03 -0.354500 -0.035041 -0.779967  0.235855"
      ]
     },
     "execution_count": 6,
     "metadata": {},
     "output_type": "execute_result"
    }
   ],
   "source": [
    "# 截取某行到某行\n",
    "df[1:3]"
   ]
  },
  {
   "cell_type": "code",
   "execution_count": 7,
   "id": "f23b0044",
   "metadata": {},
   "outputs": [
    {
     "data": {
      "text/html": [
       "<div>\n",
       "<style scoped>\n",
       "    .dataframe tbody tr th:only-of-type {\n",
       "        vertical-align: middle;\n",
       "    }\n",
       "\n",
       "    .dataframe tbody tr th {\n",
       "        vertical-align: top;\n",
       "    }\n",
       "\n",
       "    .dataframe thead th {\n",
       "        text-align: right;\n",
       "    }\n",
       "</style>\n",
       "<table border=\"1\" class=\"dataframe\">\n",
       "  <thead>\n",
       "    <tr style=\"text-align: right;\">\n",
       "      <th></th>\n",
       "      <th>a</th>\n",
       "      <th>b</th>\n",
       "      <th>c</th>\n",
       "      <th>d</th>\n",
       "    </tr>\n",
       "  </thead>\n",
       "  <tbody>\n",
       "    <tr>\n",
       "      <th>2013-01-01</th>\n",
       "      <td>-1.105899</td>\n",
       "      <td>1.358544</td>\n",
       "      <td>0.503598</td>\n",
       "      <td>0.411258</td>\n",
       "    </tr>\n",
       "    <tr>\n",
       "      <th>2013-01-02</th>\n",
       "      <td>-0.462173</td>\n",
       "      <td>0.489251</td>\n",
       "      <td>1.296628</td>\n",
       "      <td>-1.155972</td>\n",
       "    </tr>\n",
       "    <tr>\n",
       "      <th>2013-01-03</th>\n",
       "      <td>-0.354500</td>\n",
       "      <td>-0.035041</td>\n",
       "      <td>-0.779967</td>\n",
       "      <td>0.235855</td>\n",
       "    </tr>\n",
       "    <tr>\n",
       "      <th>2013-01-04</th>\n",
       "      <td>0.434285</td>\n",
       "      <td>0.480654</td>\n",
       "      <td>-1.126446</td>\n",
       "      <td>0.864055</td>\n",
       "    </tr>\n",
       "    <tr>\n",
       "      <th>2013-01-05</th>\n",
       "      <td>-0.187896</td>\n",
       "      <td>2.590489</td>\n",
       "      <td>-0.340271</td>\n",
       "      <td>0.661748</td>\n",
       "    </tr>\n",
       "    <tr>\n",
       "      <th>2013-01-06</th>\n",
       "      <td>-0.180472</td>\n",
       "      <td>-0.855244</td>\n",
       "      <td>-0.944110</td>\n",
       "      <td>0.429397</td>\n",
       "    </tr>\n",
       "  </tbody>\n",
       "</table>\n",
       "</div>"
      ],
      "text/plain": [
       "                   a         b         c         d\n",
       "2013-01-01 -1.105899  1.358544  0.503598  0.411258\n",
       "2013-01-02 -0.462173  0.489251  1.296628 -1.155972\n",
       "2013-01-03 -0.354500 -0.035041 -0.779967  0.235855\n",
       "2013-01-04  0.434285  0.480654 -1.126446  0.864055\n",
       "2013-01-05 -0.187896  2.590489 -0.340271  0.661748\n",
       "2013-01-06 -0.180472 -0.855244 -0.944110  0.429397"
      ]
     },
     "execution_count": 7,
     "metadata": {},
     "output_type": "execute_result"
    }
   ],
   "source": [
    "# 将columns的大写换成是小写\n",
    "df.columns = [x.lower() for x in df.columns]\n",
    "df"
   ]
  },
  {
   "cell_type": "code",
   "execution_count": 8,
   "id": "d73c6222",
   "metadata": {},
   "outputs": [],
   "source": [
    "# 将某列转化为Series\n",
    "b = Series(df['a'])"
   ]
  },
  {
   "cell_type": "code",
   "execution_count": 9,
   "id": "15e6f33e",
   "metadata": {
    "scrolled": true
   },
   "outputs": [
    {
     "name": "stdout",
     "output_type": "stream",
     "text": [
      "[-1.10589851 -0.46217261 -0.35450048  0.43428483 -0.18789609 -0.18047187]\n"
     ]
    }
   ],
   "source": [
    "# 将Series转化为numpy数组\n",
    "np_data = np.array(b)\n",
    "print(np_data)"
   ]
  },
  {
   "cell_type": "code",
   "execution_count": 10,
   "id": "38b4af93",
   "metadata": {},
   "outputs": [
    {
     "name": "stdout",
     "output_type": "stream",
     "text": [
      "-1.1058985112387523\n",
      "-0.46217260855210274\n",
      "-0.35450048143106905\n",
      "0.4342848327121899\n",
      "-0.1878960902559143\n",
      "-0.18047187116799976\n"
     ]
    }
   ],
   "source": [
    "# 遍历每一个元素\n",
    "for each in np_data:\n",
    "    print(each)"
   ]
  },
  {
   "cell_type": "code",
   "execution_count": 11,
   "id": "d15c2dd1",
   "metadata": {},
   "outputs": [
    {
     "data": {
      "text/plain": [
       "<DatetimeArray>\n",
       "['2013-01-01 00:00:00', '2013-01-02 00:00:00', '2013-01-03 00:00:00',\n",
       " '2013-01-04 00:00:00', '2013-01-05 00:00:00', '2013-01-06 00:00:00']\n",
       "Length: 6, dtype: datetime64[ns]"
      ]
     },
     "execution_count": 11,
     "metadata": {},
     "output_type": "execute_result"
    }
   ],
   "source": [
    "# 获取列索引\n",
    "df.index.array"
   ]
  },
  {
   "cell_type": "code",
   "execution_count": 12,
   "id": "12742657",
   "metadata": {},
   "outputs": [
    {
     "data": {
      "text/plain": [
       "<PandasArray>\n",
       "['a', 'b', 'c', 'd']\n",
       "Length: 4, dtype: object"
      ]
     },
     "execution_count": 12,
     "metadata": {},
     "output_type": "execute_result"
    }
   ],
   "source": [
    "# 获取行索引\n",
    "df.columns.array"
   ]
  },
  {
   "cell_type": "code",
   "execution_count": 13,
   "id": "5a71c2aa",
   "metadata": {},
   "outputs": [
    {
     "data": {
      "text/html": [
       "<div>\n",
       "<style scoped>\n",
       "    .dataframe tbody tr th:only-of-type {\n",
       "        vertical-align: middle;\n",
       "    }\n",
       "\n",
       "    .dataframe tbody tr th {\n",
       "        vertical-align: top;\n",
       "    }\n",
       "\n",
       "    .dataframe thead th {\n",
       "        text-align: right;\n",
       "    }\n",
       "</style>\n",
       "<table border=\"1\" class=\"dataframe\">\n",
       "  <thead>\n",
       "    <tr style=\"text-align: right;\">\n",
       "      <th></th>\n",
       "      <th>1</th>\n",
       "      <th>2</th>\n",
       "      <th>3</th>\n",
       "      <th>4</th>\n",
       "    </tr>\n",
       "  </thead>\n",
       "  <tbody>\n",
       "    <tr>\n",
       "      <th>1</th>\n",
       "      <td>-1.105899</td>\n",
       "      <td>1.358544</td>\n",
       "      <td>0.503598</td>\n",
       "      <td>0.411258</td>\n",
       "    </tr>\n",
       "    <tr>\n",
       "      <th>2</th>\n",
       "      <td>-0.462173</td>\n",
       "      <td>0.489251</td>\n",
       "      <td>1.296628</td>\n",
       "      <td>-1.155972</td>\n",
       "    </tr>\n",
       "    <tr>\n",
       "      <th>3</th>\n",
       "      <td>-0.354500</td>\n",
       "      <td>-0.035041</td>\n",
       "      <td>-0.779967</td>\n",
       "      <td>0.235855</td>\n",
       "    </tr>\n",
       "    <tr>\n",
       "      <th>4</th>\n",
       "      <td>0.434285</td>\n",
       "      <td>0.480654</td>\n",
       "      <td>-1.126446</td>\n",
       "      <td>0.864055</td>\n",
       "    </tr>\n",
       "    <tr>\n",
       "      <th>5</th>\n",
       "      <td>-0.187896</td>\n",
       "      <td>2.590489</td>\n",
       "      <td>-0.340271</td>\n",
       "      <td>0.661748</td>\n",
       "    </tr>\n",
       "    <tr>\n",
       "      <th>6</th>\n",
       "      <td>-0.180472</td>\n",
       "      <td>-0.855244</td>\n",
       "      <td>-0.944110</td>\n",
       "      <td>0.429397</td>\n",
       "    </tr>\n",
       "  </tbody>\n",
       "</table>\n",
       "</div>"
      ],
      "text/plain": [
       "          1         2         3         4\n",
       "1 -1.105899  1.358544  0.503598  0.411258\n",
       "2 -0.462173  0.489251  1.296628 -1.155972\n",
       "3 -0.354500 -0.035041 -0.779967  0.235855\n",
       "4  0.434285  0.480654 -1.126446  0.864055\n",
       "5 -0.187896  2.590489 -0.340271  0.661748\n",
       "6 -0.180472 -0.855244 -0.944110  0.429397"
      ]
     },
     "execution_count": 13,
     "metadata": {},
     "output_type": "execute_result"
    }
   ],
   "source": [
    "# 修改索引\n",
    "df.columns = [1,2,3,4]\n",
    "df.index = [1,2,3,4,5,6]\n",
    "df"
   ]
  },
  {
   "cell_type": "code",
   "execution_count": 14,
   "id": "1830b95b",
   "metadata": {},
   "outputs": [
    {
     "data": {
      "text/html": [
       "<div>\n",
       "<style scoped>\n",
       "    .dataframe tbody tr th:only-of-type {\n",
       "        vertical-align: middle;\n",
       "    }\n",
       "\n",
       "    .dataframe tbody tr th {\n",
       "        vertical-align: top;\n",
       "    }\n",
       "\n",
       "    .dataframe thead th {\n",
       "        text-align: right;\n",
       "    }\n",
       "</style>\n",
       "<table border=\"1\" class=\"dataframe\">\n",
       "  <thead>\n",
       "    <tr style=\"text-align: right;\">\n",
       "      <th></th>\n",
       "      <th>1</th>\n",
       "      <th>2</th>\n",
       "      <th>3</th>\n",
       "      <th>4</th>\n",
       "    </tr>\n",
       "  </thead>\n",
       "  <tbody>\n",
       "    <tr>\n",
       "      <th>1</th>\n",
       "      <td>-1.105899</td>\n",
       "      <td>1.358544</td>\n",
       "      <td>0.503598</td>\n",
       "      <td>0.411258</td>\n",
       "    </tr>\n",
       "  </tbody>\n",
       "</table>\n",
       "</div>"
      ],
      "text/plain": [
       "          1         2         3         4\n",
       "1 -1.105899  1.358544  0.503598  0.411258"
      ]
     },
     "execution_count": 14,
     "metadata": {},
     "output_type": "execute_result"
    }
   ],
   "source": [
    "# 获取行\n",
    "df[:1]"
   ]
  },
  {
   "cell_type": "code",
   "execution_count": 15,
   "id": "59556343",
   "metadata": {},
   "outputs": [
    {
     "data": {
      "text/plain": [
       "1   -1.105899\n",
       "2   -0.462173\n",
       "3   -0.354500\n",
       "4    0.434285\n",
       "5   -0.187896\n",
       "6   -0.180472\n",
       "Name: 1, dtype: float64"
      ]
     },
     "execution_count": 15,
     "metadata": {},
     "output_type": "execute_result"
    }
   ],
   "source": [
    "# 获取列\n",
    "df[1]"
   ]
  },
  {
   "cell_type": "code",
   "execution_count": 16,
   "id": "e22a6d19",
   "metadata": {},
   "outputs": [
    {
     "data": {
      "text/plain": [
       "array([-1.10589851, -0.46217261, -0.35450048,  0.43428483, -0.18789609,\n",
       "       -0.18047187])"
      ]
     },
     "execution_count": 16,
     "metadata": {},
     "output_type": "execute_result"
    }
   ],
   "source": [
    "# 实现numpy的转化\n",
    "arr = df[1].to_numpy()\n",
    "arr"
   ]
  },
  {
   "cell_type": "code",
   "execution_count": 26,
   "id": "60d1fe9c",
   "metadata": {},
   "outputs": [
    {
     "data": {
      "text/plain": [
       "1   -1.105899\n",
       "2   -0.462173\n",
       "3   -0.354500\n",
       "5   -0.187896\n",
       "6   -0.180472\n",
       "4    0.434285\n",
       "Name: 1, dtype: float64"
      ]
     },
     "execution_count": 26,
     "metadata": {},
     "output_type": "execute_result"
    }
   ],
   "source": [
    "# 对列进行排序\n",
    "df[1].sort_values()"
   ]
  },
  {
   "cell_type": "code",
   "execution_count": null,
   "id": "1823907d",
   "metadata": {},
   "outputs": [],
   "source": []
  }
 ],
 "metadata": {
  "kernelspec": {
   "display_name": "Python 3",
   "language": "python",
   "name": "python3"
  },
  "language_info": {
   "codemirror_mode": {
    "name": "ipython",
    "version": 3
   },
   "file_extension": ".py",
   "mimetype": "text/x-python",
   "name": "python",
   "nbconvert_exporter": "python",
   "pygments_lexer": "ipython3",
   "version": "3.9.5"
  }
 },
 "nbformat": 4,
 "nbformat_minor": 5
}
